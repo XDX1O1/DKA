{
 "cells": [
  {
   "cell_type": "code",
   "execution_count": 5,
   "id": "be643647-f7c9-4f45-a233-258d58209ee2",
   "metadata": {},
   "outputs": [],
   "source": [
    "import random\n",
    "import math"
   ]
  },
  {
   "cell_type": "code",
   "execution_count": 6,
   "id": "9b1d3de8-ea67-4c67-9a12-092ea817f704",
   "metadata": {},
   "outputs": [],
   "source": [
    "def distance(city1, city2):\n",
    "    return math.sqrt((city1[0] - city2[0]) ** 2 + (city1[1] - city2[1]) ** 2)\n",
    "    \n",
    "def total_distance(tour, cities):\n",
    "    dist = 0\n",
    "    for i in range(len(tour)):\n",
    "        dist += distance(cities[tour[i]], cities[tour[(i + 1) % len(tour)]])\n",
    "    return dist\n",
    "    \n",
    "def random_swap(tour):\n",
    "    new_tour = tour [:]\n",
    "    i, j = random.sample(range(len(tour)), 2)\n",
    "    new_tour[i], new_tour[j] = new_tour[j], new_tour[i]\n",
    "    return new_tour\n"
   ]
  },
  {
   "cell_type": "code",
   "execution_count": 12,
   "id": "b0d3034b-fdac-4b50-8c7e-eafa51517ad5",
   "metadata": {},
   "outputs": [],
   "source": [
    "def simulated_annealing(cities, initial_temp, cooling_rate, stopping_temp):\n",
    "    city_indices = list(range(len(cities)))\n",
    "    random.shuffle(city_indices)\n",
    "    half = len(cities) // 2\n",
    "    salesman1 = city_indices[:half]\n",
    "    salesman2 = city_indices[half:]\n",
    "    current_solution = (salesman1, salesman2)\n",
    "\n",
    "    def combined_distance(solution):\n",
    "        s1, s2 = solution\n",
    "        return total_distance(s1 + [s1[0]], cities) + total_distance(s2 + [s2[0]], cities)\n",
    "\n",
    "    current_distance = combined_distance(current_solution)\n",
    "    best_solution = (salesman1[:], salesman2[:])\n",
    "    best_distance = current_distance\n",
    "    temp = initial_temp\n",
    "\n",
    "    while temp > stopping_temp:\n",
    "        new_salesman1 = random_swap(current_solution[0])\n",
    "        new_salesman2 = random_swap(current_solution[1])\n",
    "        # Kadang tukar kota antar salesman\n",
    "        if random.random() < 0.3:\n",
    "            i = random.randint(0, half -1)\n",
    "            j = random.randint(0, half -1)\n",
    "            new_salesman1[i], new_salesman2[j] = new_salesman2[j], new_salesman1[i]\n",
    "        new_solution = (new_salesman1, new_salesman2)\n",
    "        new_distance = combined_distance(new_solution)\n",
    "\n",
    "        if new_distance < current_distance:\n",
    "            current_solution = (new_salesman1[:], new_salesman2[:])\n",
    "            current_distance = new_distance\n",
    "        else:\n",
    "            if random.random() < math.exp((current_distance - new_distance) / temp):\n",
    "                current_solution = (new_salesman1[:], new_salesman2[:])\n",
    "                current_distance = new_distance\n",
    "\n",
    "        if current_distance < best_distance:\n",
    "            best_solution = (current_solution[0][:], current_solution[1][:])\n",
    "            best_distance = current_distance\n",
    "\n",
    "        temp *= cooling_rate\n",
    "\n",
    "    return best_solution, best_distance"
   ]
  },
  {
   "cell_type": "code",
   "execution_count": 13,
   "id": "abb9ea1a-0368-4225-a7d9-717e753c5588",
   "metadata": {},
   "outputs": [],
   "source": [
    "cities = [\n",
    "    (10,20), (35,15), (5,40), (25,30),\n",
    "    (15,25), (40,35), (20,40), (50,10)\n",
    "]\n",
    "\n",
    "initial_temp = 10000\n",
    "cooling_rate = 0.995\n",
    "stopping_temp = 1"
   ]
  },
  {
   "cell_type": "code",
   "execution_count": 14,
   "id": "275040ee-cd8f-40af-9981-5aa4ba3d1452",
   "metadata": {},
   "outputs": [
    {
     "name": "stdout",
     "output_type": "stream",
     "text": [
      "Rute terbaik salesman 1: [3, 1, 7, 5]\n",
      "Rute terbaik salesman 2: [6, 2, 0, 4]\n",
      "Total jarak terbaik: 135.07434125547195\n"
     ]
    }
   ],
   "source": [
    "best_solution, best_distance = simulated_annealing(cities, initial_temp, cooling_rate, stopping_temp)\n",
    "\n",
    "print(\"Rute terbaik salesman 1:\", best_solution[0])\n",
    "print(\"Rute terbaik salesman 2:\", best_solution[1])\n",
    "print(\"Total jarak terbaik:\", best_distance)"
   ]
  }
 ],
 "metadata": {
  "kernelspec": {
   "display_name": "Python 3 (ipykernel)",
   "language": "python",
   "name": "python3"
  },
  "language_info": {
   "codemirror_mode": {
    "name": "ipython",
    "version": 3
   },
   "file_extension": ".py",
   "mimetype": "text/x-python",
   "name": "python",
   "nbconvert_exporter": "python",
   "pygments_lexer": "ipython3",
   "version": "3.12.3"
  }
 },
 "nbformat": 4,
 "nbformat_minor": 5
}
