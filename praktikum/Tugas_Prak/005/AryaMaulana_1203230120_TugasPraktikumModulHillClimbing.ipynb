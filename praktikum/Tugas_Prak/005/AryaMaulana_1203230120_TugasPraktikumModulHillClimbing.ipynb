{
 "cells": [
  {
   "cell_type": "markdown",
   "metadata": {
    "id": "8DPnjLO3va2N"
   },
   "source": [
    "# **TUGAS MODUL HILL CLIMBING**"
   ]
  },
  {
   "cell_type": "code",
   "execution_count": null,
   "metadata": {
    "colab": {
     "base_uri": "https://localhost:8080/"
    },
    "id": "SgD_JEanvsru",
    "outputId": "40844c7c-637e-4d3e-f782-8ad48527dba4"
   },
   "outputs": [
    {
     "name": "stdout",
     "output_type": "stream",
     "text": [
      "Solusi terbaik:\n",
      "Rute: A → B → D → E → C → A\n",
      "Total jarak: 80\n"
     ]
    }
   ],
   "source": [
    "import random\n",
    "\n",
    "# Jarak antar kota\n",
    "distances = [\n",
    "    [0, 10, 15, 20, 25],\n",
    "    [10, 0, 35, 25, 15],\n",
    "    [15, 35, 0, 30, 20],\n",
    "    [20, 25, 30, 0, 10],\n",
    "    [25, 15, 20, 10, 0]\n",
    "]\n",
    "\n",
    "def total_distance(tour):\n",
    "    return sum(distances[tour[i]][tour[(i+1)%len(tour)]] for i in range(len(tour)))\n",
    "def get_neighbors(tour):\n",
    "    neighbors = []\n",
    "    for i in range(1, len(tour)-1):\n",
    "        for j in range(i+1, len(tour)):\n",
    "            neighbor = tour.copy()\n",
    "            neighbor[i], neighbor[j] = neighbor[j], neighbor[i]\n",
    "            neighbors.append(neighbor)\n",
    "    return neighbors\n",
    "\n",
    "# Representasi indeks ke huruf kota\n",
    "cities = ['A', 'B', 'C', 'D', 'E']\n",
    "\n",
    "# Inisialisasi solusi awal\n",
    "current_solution = [0] + random.sample(range(1,5), 4) + [0]\n",
    "current_distance = total_distance(current_solution)\n",
    "\n",
    "# Hill Climbing\n",
    "while True:\n",
    "    neighbors = get_neighbors(current_solution)\n",
    "    if not neighbors:\n",
    "        break\n",
    "    best_neighbor = min(neighbors, key=total_distance)\n",
    "    best_distance = total_distance(best_neighbor)\n",
    "    if best_distance >= current_distance:\n",
    "        break\n",
    "    current_solution = best_neighbor\n",
    "    current_distance = best_distance\n",
    "\n",
    "# Output hasil akhir\n",
    "print(\"Solusi terbaik:\")\n",
    "print(\"Rute:\", \" → \".join(cities[i] for i in current_solution))\n",
    "print(\"Total jarak:\", current_distance)"
   ]
  },
  {
   "cell_type": "markdown",
   "metadata": {
    "id": "KM9eJC6s0NhX"
   },
   "source": [
    "## **Penjelasan**"
   ]
  },
  {
   "cell_type": "markdown",
   "metadata": {
    "id": "nMctWt--0USE"
   },
   "source": [
    "1. **Representasi Solusi Awal** dengan urutan kota yang akan dikunjungi.\n",
    "\n",
    "  Titik awal kota A\n",
    "\n",
    "  Lalu ke kota B\n",
    "\n",
    "  Lalu ke kota C\n",
    "\n",
    "  Lalu ke kota D\n",
    "\n",
    "  Lalu ke kota E\n",
    "\n",
    "  Kembali lagi kota A\n",
    "\n",
    "  Total jarak awal: 10 + 35 + 30 + 10 + 25 = 110\n",
    "\n",
    "2. **Menghasilkan Neighbors** caranya dengan menukar dua kota dari solusi awal. Contoh:\n",
    "\n",
    "  [A-B-C-D-E-A]\n",
    "\n",
    "*   Tukar B dan C: A-C-B-D-E-A\n",
    "*   Tukar B dan C: A-D-C-B-E-A\n",
    "\n",
    "*   Tukar B dan E: A-E-C-D-B-A\n",
    "*   Tukar C dan D: A-B-D-C-E-A\n",
    "\n",
    "*   Tukar C dan E: A-B-E-D-C-A\n",
    "*   Tukar D dan E: A-B-C-E-D-A\n",
    "\n",
    "3. **Hill Climbing (Rute Terpendek)**\n",
    "\n",
    "\n",
    "*   Dilakukan dari solusi awal dan menghitung total jarak\n",
    "*   Membuat solusi baru dengan menukar dua kota (neighbors) dan menghitung total jarak\n",
    "\n",
    "\n",
    "*   Diulang hingga tidak ada neighbors yang lebih pendek jaraknya\n",
    "*   Membandingkan tiap neighbors dengan memilih total jarak yang terpendek\n",
    "\n",
    "4. **Rute Terpendek (Optimal atau tidak)** algoritma Hill Climbing tidak selalu optimal. Solusi yang dilakukan hanya dengan menukar dua kota hingga tidak dapat ditukar lagi.\n",
    "\n",
    "  Rute terpendek yang ditemukan: A-B-D-E-C-A , jarak = 80\n",
    "\n",
    "  Rute ini termasuk local optimum, karena tidak ada solusi neighbors yang lebih baik.\n",
    "\n",
    "\n",
    "\n",
    "\n",
    "\n",
    "\n",
    "\n",
    "\n",
    "\n"
   ]
  }
 ],
 "metadata": {
  "colab": {
   "provenance": []
  },
  "kernelspec": {
   "display_name": "Python 3 (ipykernel)",
   "language": "python",
   "name": "python3"
  },
  "language_info": {
   "codemirror_mode": {
    "name": "ipython",
    "version": 3
   },
   "file_extension": ".py",
   "mimetype": "text/x-python",
   "name": "python",
   "nbconvert_exporter": "python",
   "pygments_lexer": "ipython3",
   "version": "3.12.3"
  }
 },
 "nbformat": 4,
 "nbformat_minor": 4
}
