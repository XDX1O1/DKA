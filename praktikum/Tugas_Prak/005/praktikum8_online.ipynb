{
 "cells": [
  {
   "cell_type": "code",
   "execution_count": 9,
   "id": "3582797d-9de5-409f-a51d-4862f087c1f1",
   "metadata": {},
   "outputs": [
    {
     "name": "stdout",
     "output_type": "stream",
     "text": [
      "Solusi awal (urutan kota): ['B', 'C', 'D', 'E', 'A']\n",
      "Total jarak awal: 110\n",
      "\n",
      "Solusi terbaik (urutan kota): ['A', 'C', 'D', 'E', 'B']\n",
      "Total jarak terbaik: 80\n"
     ]
    }
   ],
   "source": [
    "import random\n",
    "import math\n",
    "# Tabel jarak antar kota\n",
    "distances = {\n",
    "    'A': {'A': 0, 'B': 10, 'C': 15, 'D': 20, 'E': 25},\n",
    "    'B': {'A': 10, 'B': 0, 'C': 35, 'D': 25, 'E': 15},\n",
    "    'C': {'A': 15, 'B': 35, 'C': 0, 'D': 30, 'E': 20},\n",
    "    'D': {'A': 20, 'B': 25, 'C': 30, 'D': 0, 'E': 10},\n",
    "    'E': {'A': 25, 'B': 15, 'C': 20, 'D': 10, 'E': 0}\n",
    "}\n",
    "\n",
    "cities = ['A', 'B', 'C', 'D', 'E']\n",
    "\n",
    "# Fungsi untuk menghitung total jarak dari sebuah urutan kota\n",
    "def total_distance(tour):\n",
    "    dist = 0\n",
    "    for i in range(len(tour)):\n",
    "        dist += distances[tour[i]][tour[(i + 1) % len(tour)]]  # Kembali ke kota pertama\n",
    "    return dist\n",
    "\n",
    "# Fungsi untuk menghasilkan neighbors (dengan menukar dua kota dalam urutan)\n",
    "def get_neighbors(tour):\n",
    "    neighbors = []\n",
    "    for i in range(len(tour)):\n",
    "        for j in range(i + 1, len(tour)):\n",
    "            neighbor = tour[:]\n",
    "            neighbor[i], neighbor[j] = neighbor[j], neighbor[i]  # Tukar dua kota\n",
    "            neighbors.append(neighbor)\n",
    "    return neighbors\n",
    "\n",
    "# Mulai dengan solusi awal acak\n",
    "current_solution = cities[:]  # Salin daftar kota\n",
    "random.shuffle(current_solution)  # Acak urutan kota\n",
    "current_distance = total_distance(current_solution)\n",
    "\n",
    "print(\"Solusi awal (urutan kota):\", current_solution)\n",
    "print(\"Total jarak awal:\", current_distance)\n",
    "\n",
    "# Proses Hill Climbing\n",
    "while True:\n",
    "    neighbors = get_neighbors(current_solution)\n",
    "    best_neighbor = min(neighbors, key=lambda tour: total_distance(tour))\n",
    "    best_distance = total_distance(best_neighbor)\n",
    "    \n",
    "    if best_distance >= current_distance:  # Tidak ada yang lebih baik\n",
    "        break\n",
    "    \n",
    "    current_solution = best_neighbor\n",
    "    current_distance = best_distance\n",
    "\n",
    "print(\"\\nSolusi terbaik (urutan kota):\", current_solution)\n",
    "print(\"Total jarak terbaik:\", current_distance)\n"
   ]
  },
  {
   "cell_type": "code",
   "execution_count": null,
   "id": "1238fb88-72e7-43eb-ab21-48870255e07e",
   "metadata": {},
   "outputs": [],
   "source": [
    "1. Buat representasi solusi awal dengan urutan kota yang akan dikunjungi.\n",
    "    Solusi awal (urutan kota): ['B', 'C', 'D', 'E', 'A']\n"
   ]
  },
  {
   "cell_type": "code",
   "execution_count": null,
   "id": "5708fa6b-f853-4561-a5a4-944ca17d0a15",
   "metadata": {},
   "outputs": [],
   "source": [
    "2. Jelaskan bagaimana cara menghasilkan neighbors dari solusi awal tersebut dengan menukar dua kota.\n",
    "\n",
    "    Neighbors dihasilkan dengan cara menukar dua kota dari urutan saat ini (selain kota asal jika dianggap tetap di awal).\n",
    "\n",
    "    Contoh neighbor dari ['B', 'C', 'D', 'E', 'A']:\n",
    "\n",
    "    Tukar C dan D → ['B', 'D', 'C', 'E', 'A']\n",
    "\n",
    "    Tukar D dan E → ['B', 'E', 'C', 'D', 'A']\n",
    "\n",
    "    Tukar C dan A → ['B', 'D', 'A', 'E', 'C']\n",
    "\n",
    "    Tukar E dan A → ['B', 'D', 'C', 'A', 'E']\n",
    "\n",
    "    Dst.\n",
    "\n",
    "    Setiap hasil pertukaran adalah neighbor dari solusi awal. Semua kombinasi pertukaran dua kota (selain kota awal jika ditetapkan) dipertimbangkan untuk dievaluasi jaraknya."
   ]
  },
  {
   "cell_type": "code",
   "execution_count": null,
   "id": "d4d514b6-065e-4264-ad96-58af4831da97",
   "metadata": {},
   "outputs": [],
   "source": [
    "3. Gunakan algoritma Hill Climbing untuk mencari rute yang paling pendek. Berikan proses perubahan rute dari solusi awal ke solusi yang lebih baik.\n",
    "\n",
    "    Langkah-langkah Hill Climbing berdasarkan Solusi awal:\n",
    "\n",
    "    Solusi awal: ['B', 'C', 'D', 'E', 'A']\n",
    "    Total jarak: 110\n",
    "\n",
    "    Evaluasi semua neighbors:\n",
    "\n",
    "    Misal ditemukan ['A', 'C', 'D', 'E', 'B'] dengan jarak 80, yang lebih pendek.\n",
    "\n",
    "    Ganti solusi saat ini dengan solusi yang lebih baik tersebut.\n",
    "\n",
    "    Evaluasi neighbors dari ['A', 'C', 'D', 'E', 'B']. Jika tidak ada yang lebih baik dari 80, algoritma berhenti."
   ]
  },
  {
   "cell_type": "code",
   "execution_count": null,
   "id": "ef979427-d391-41fc-a431-ff7cf63a8a4b",
   "metadata": {},
   "outputs": [],
   "source": [
    "4. Apa rute terpendek yang ditemukan oleh algoritma? Apakah rute tersebut merupakan solusi paling optimal atau masih merupakan local optimum?\n",
    "\n",
    "    #Rute terpendek adalah  A → C → D → E → B → A . Dengan total jarak yaitu sebesar 80\n",
    "    \n",
    "    #Apakah solusi ini paling optimal?\n",
    "    Belum tentu. Hill Climbing mudah terjebak di local optimum, karena hanya memperbaiki solusi jika langsung lebih baik. Tidak mengeksplorasi solusi yang sementara lebih buruk untuk mendapatkan solusi global.\n",
    "\n",
    "    Maka, rute ini mungkin merupakan local optimum.\n"
   ]
  }
 ],
 "metadata": {
  "kernelspec": {
   "display_name": "Python 3 (ipykernel)",
   "language": "python",
   "name": "python3"
  },
  "language_info": {
   "codemirror_mode": {
    "name": "ipython",
    "version": 3
   },
   "file_extension": ".py",
   "mimetype": "text/x-python",
   "name": "python",
   "nbconvert_exporter": "python",
   "pygments_lexer": "ipython3",
   "version": "3.12.3"
  }
 },
 "nbformat": 4,
 "nbformat_minor": 5
}
